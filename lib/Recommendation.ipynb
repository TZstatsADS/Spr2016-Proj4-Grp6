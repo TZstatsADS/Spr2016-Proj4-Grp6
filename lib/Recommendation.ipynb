{
 "cells": [
  {
   "cell_type": "code",
   "execution_count": 51,
   "metadata": {
    "collapsed": false
   },
   "outputs": [],
   "source": [
    "from alignment.sequence import Sequence\n",
    "from alignment.vocabulary import Vocabulary\n",
    "from alignment.sequencealigner import SimpleScoring, GlobalSequenceAligner\n",
    "\n",
    "def recommendation(name, movies):\n",
    "    \"\"\"Find the top ten neartest match in a list of movie names\n",
    "    \n",
    "    Args:\n",
    "        name: a string of key words seperated by white space\n",
    "        dic: a list of movie names to choose from\n",
    "    \n",
    "    Returns:\n",
    "        A list of movie names\n",
    "    \"\"\"\n",
    "    # Create sequences to be aligned.\n",
    "    key = Sequence(name.split())\n",
    "    dic = [Sequence(movie.split()) for movie in movies]\n",
    "    # Create a vocabulary and encode the sequences.\n",
    "    v = Vocabulary()\n",
    "    keyEncoded = v.encodeSequence(key)\n",
    "    dicEncoded = [v.encodeSequence(movie) for movie in dic]\n",
    "    # Create a scoring and align the sequences using global aligner.\n",
    "    scoring = SimpleScoring(1, 0)\n",
    "    aligner = GlobalSequenceAligner(scoring, -2)\n",
    "    score = [aligner.align(keyEncoded, dEncoded, backtrace=False) for dEncoded in dicEncoded]\n",
    "    # Get the top five score in all movies \n",
    "    topFive = sorted(range(len(score)), key=lambda i:score[i])\n",
    "    return [ movies[i] for i in topFive ]"
   ]
  },
  {
   "cell_type": "code",
   "execution_count": 52,
   "metadata": {
    "collapsed": false
   },
   "outputs": [
    {
     "data": {
      "text/plain": [
       "['help', 'help out', 'help him out', 'help me out']"
      ]
     },
     "execution_count": 52,
     "metadata": {},
     "output_type": "execute_result"
    }
   ],
   "source": [
    "recommendation(\"help me out\",[\"help\",\"help out\",\"help me out\",\"help him out\"])"
   ]
  },
  {
   "cell_type": "code",
   "execution_count": 1,
   "metadata": {
    "collapsed": false
   },
   "outputs": [
    {
     "name": "stdout",
     "output_type": "stream",
     "text": [
      "['', '/Users/yutou/anaconda/lib/python27.zip', '/Users/yutou/anaconda/lib/python2.7', '/Users/yutou/anaconda/lib/python2.7/plat-darwin', '/Users/yutou/anaconda/lib/python2.7/plat-mac', '/Users/yutou/anaconda/lib/python2.7/plat-mac/lib-scriptpackages', '/Users/yutou/anaconda/lib/python2.7/lib-tk', '/Users/yutou/anaconda/lib/python2.7/lib-old', '/Users/yutou/anaconda/lib/python2.7/lib-dynload', '/Users/yutou/anaconda/lib/python2.7/site-packages/Sphinx-1.3.1-py2.7.egg', '/Users/yutou/anaconda/lib/python2.7/site-packages/setuptools-20.3-py2.7.egg', '/Users/yutou/anaconda/lib/python2.7/site-packages', '/Users/yutou/anaconda/lib/python2.7/site-packages/aeosa', '/Users/yutou/anaconda/lib/python2.7/site-packages/IPython/extensions', '/Users/yutou/.ipython']\n"
     ]
    }
   ],
   "source": [
    "import sys\n",
    "print sys.path"
   ]
  }
 ],
 "metadata": {
  "kernelspec": {
   "display_name": "Python 2",
   "language": "python",
   "name": "python2"
  },
  "language_info": {
   "codemirror_mode": {
    "name": "ipython",
    "version": 2
   },
   "file_extension": ".py",
   "mimetype": "text/x-python",
   "name": "python",
   "nbconvert_exporter": "python",
   "pygments_lexer": "ipython2",
   "version": "2.7.11"
  }
 },
 "nbformat": 4,
 "nbformat_minor": 0
}
