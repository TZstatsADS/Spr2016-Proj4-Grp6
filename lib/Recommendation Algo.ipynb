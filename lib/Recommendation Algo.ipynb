{
 "cells": [
  {
   "cell_type": "code",
   "execution_count": 6,
   "metadata": {
    "collapsed": false
   },
   "outputs": [
    {
     "name": "stdout",
     "output_type": "stream",
     "text": [
      "1\n"
     ]
    }
   ],
   "source": [
    "from alignment.sequence import Sequence\n",
    "from alignment.vocabulary import Vocabulary\n",
    "from alignment.sequencealigner import SimpleScoring, GlobalSequenceAligner\n",
    "\n",
    "# Create sequences to be aligned.\n",
    "a = Sequence('What a day beautiful'.split())\n",
    "b = Sequence('What a day b'.split())\n",
    "c = Sequence('What the f'.split())\n",
    "\n",
    "# Create a vocabulary and encode the sequences.\n",
    "v = Vocabulary()\n",
    "aEncoded = v.encodeSequence(a)\n",
    "bEncoded = v.encodeSequence(b)\n",
    "cEncoded = v.encodeSequence(c)\n",
    "\n",
    "# Create a scoring and align the sequences using global aligner.\n",
    "scoring = SimpleScoring(1, 0)\n",
    "aligner = GlobalSequenceAligner(scoring, -2)\n",
    "score = aligner.align(aEncoded, cEncoded, backtrace=False)\n",
    "print(score)\n",
    "\n",
    "# Iterate over optimal alignments and print them.\n",
    "# for encoded in encodeds:\n",
    "#     alignment = v.decodeSequenceAlignment(encoded)\n",
    "#     print alignment\n",
    "#     print 'Alignment score:', alignment.score\n",
    "#     print 'Percent identity:', alignment.percentIdentity()"
   ]
  },
  {
   "cell_type": "code",
   "execution_count": 13,
   "metadata": {
    "collapsed": true
   },
   "outputs": [],
   "source": [
    "from alignment.sequence import Sequence\n",
    "from alignment.vocabulary import Vocabulary\n",
    "from alignment.sequencealigner import SimpleScoring, GlobalSequenceAligner\n",
    "\n",
    "def recommendation(name, movies):\n",
    "    \"\"\"Find the top ten neartest match in a list of movie names\n",
    "    \n",
    "    Args:\n",
    "        name: a string of key words seperated by white space\n",
    "        dic: a list of movie names to choose from\n",
    "    \n",
    "    Returns:\n",
    "        A list of movie names\n",
    "    \"\"\"\n",
    "    # Create sequences to be aligned.\n",
    "    key = Sequence(name.split())\n",
    "    dic = [Sequence(movie.split()) for movie in movies]\n",
    "    # Create a vocabulary and encode the sequences.\n",
    "    v = Vocabulary()\n",
    "    keyEncoded = v.encodeSequence(key)\n",
    "    dicEncoded = [v.encodeSequence(movie) for movie in dic]\n",
    "    # Create a scoring and align the sequences using global aligner.\n",
    "    scoring = SimpleScoring(2, -1)\n",
    "    aligner = GlobalSequenceAligner(scoring, -2)\n",
    "    score = [aligner.align(keyEncoded, dEncoded, backtrace=False) for dEncoded in dicEncoded]\n",
    "    return score"
   ]
  },
  {
   "cell_type": "code",
   "execution_count": 14,
   "metadata": {
    "collapsed": false
   },
   "outputs": [
    {
     "data": {
      "text/plain": [
       "[2, 2]"
      ]
     },
     "execution_count": 14,
     "metadata": {},
     "output_type": "execute_result"
    }
   ],
   "source": [
    "recommendation(\"help me out\",[\"help\",\"help out\"])"
   ]
  },
  {
   "cell_type": "code",
   "execution_count": 10,
   "metadata": {
    "collapsed": false
   },
   "outputs": [
    {
     "name": "stdout",
     "output_type": "stream",
     "text": [
      "5.0\n",
      "('Ti-tanic', 'Taata-ic', 5.0, 0, 8)\n"
     ]
    }
   ],
   "source": [
    "from Bio import pairwise2\n",
    "alignments = pairwise2.align.globalxx(\"Titanic\", \"Taataic\")\n",
    "print(alignments[0][2])\n",
    "print(alignments[0])"
   ]
  }
 ],
 "metadata": {
  "kernelspec": {
   "display_name": "Python 2",
   "language": "python",
   "name": "python2"
  },
  "language_info": {
   "codemirror_mode": {
    "name": "ipython",
    "version": 2
   },
   "file_extension": ".py",
   "mimetype": "text/x-python",
   "name": "python",
   "nbconvert_exporter": "python",
   "pygments_lexer": "ipython2",
   "version": "2.7.11"
  }
 },
 "nbformat": 4,
 "nbformat_minor": 0
}
