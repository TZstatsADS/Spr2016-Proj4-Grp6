{
 "cells": [
  {
   "cell_type": "code",
   "execution_count": 1,
   "metadata": {
    "collapsed": false
   },
   "outputs": [
    {
     "name": "stdout",
     "output_type": "stream",
     "text": [
      "what a -               beautiful day\n",
      "what a disappointingly bad       day\n",
      "Alignment score: 3\n",
      "Percent identity: 60.0\n"
     ]
    }
   ],
   "source": [
    "from alignment.sequence import Sequence\n",
    "from alignment.vocabulary import Vocabulary\n",
    "from alignment.sequencealigner import SimpleScoring, GlobalSequenceAligner\n",
    "\n",
    "# Create sequences to be aligned.\n",
    "a = Sequence('what a beautiful day'.split())\n",
    "b = Sequence('what a disappointingly bad day'.split())\n",
    "\n",
    "# Create a vocabulary and encode the sequences.\n",
    "v = Vocabulary()\n",
    "aEncoded = v.encodeSequence(a)\n",
    "bEncoded = v.encodeSequence(b)\n",
    "\n",
    "# Create a scoring and align the sequences using global aligner.\n",
    "scoring = SimpleScoring(2, -1)\n",
    "aligner = GlobalSequenceAligner(scoring, -2)\n",
    "score, encodeds = aligner.align(aEncoded, bEncoded, backtrace=True)\n",
    "\n",
    "# Iterate over optimal alignments and print them.\n",
    "for encoded in encodeds:\n",
    "    alignment = v.decodeSequenceAlignment(encoded)\n",
    "    print alignment\n",
    "    print 'Alignment score:', alignment.score\n",
    "    print 'Percent identity:', alignment.percentIdentity()"
   ]
  }
 ],
 "metadata": {
  "kernelspec": {
   "display_name": "Python 2",
   "language": "python",
   "name": "python2"
  },
  "language_info": {
   "codemirror_mode": {
    "name": "ipython",
    "version": 2
   },
   "file_extension": ".py",
   "mimetype": "text/x-python",
   "name": "python",
   "nbconvert_exporter": "python",
   "pygments_lexer": "ipython2",
   "version": "2.7.11"
  }
 },
 "nbformat": 4,
 "nbformat_minor": 0
}
