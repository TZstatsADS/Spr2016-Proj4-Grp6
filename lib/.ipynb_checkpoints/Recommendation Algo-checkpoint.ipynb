{
 "cells": [
  {
   "cell_type": "code",
   "execution_count": 8,
   "metadata": {
    "collapsed": false
   },
   "outputs": [
    {
     "name": "stdout",
     "output_type": "stream",
     "text": [
      "1 2 3 4\n",
      "What a day beautiful\n",
      "What a day b        \n",
      "Alignment score: 5\n",
      "Percent identity: 75.0\n"
     ]
    }
   ],
   "source": [
    "from alignment.sequence import Sequence\n",
    "from alignment.vocabulary import Vocabulary\n",
    "from alignment.sequencealigner import SimpleScoring, GlobalSequenceAligner\n",
    "\n",
    "# Create sequences to be aligned.\n",
    "a = Sequence('What a day beautiful'.split())\n",
    "b = Sequence('What a day b'.split())\n",
    "\n",
    "# Create a vocabulary and encode the sequences.\n",
    "v = Vocabulary()\n",
    "aEncoded = v.encodeSequence(a)\n",
    "bEncoded = v.encodeSequence(b)\n",
    "\n",
    "print(aEncoded)\n",
    "# Create a scoring and align the sequences using global aligner.\n",
    "scoring = SimpleScoring(2, -1)\n",
    "aligner = GlobalSequenceAligner(scoring, -2)\n",
    "score, encodeds = aligner.align(aEncoded, bEncoded, backtrace=True)\n",
    "\n",
    "# Iterate over optimal alignments and print them.\n",
    "for encoded in encodeds:\n",
    "    alignment = v.decodeSequenceAlignment(encoded)\n",
    "    print alignment\n",
    "    print 'Alignment score:', alignment.score\n",
    "    print 'Percent identity:', alignment.percentIdentity()"
   ]
  },
  {
   "cell_type": "code",
   "execution_count": 4,
   "metadata": {
    "collapsed": false
   },
   "outputs": [
    {
     "name": "stdout",
     "output_type": "stream",
     "text": [
      "[('Titanic', 'T-tanic', 6.0, 0, 7)]\n"
     ]
    }
   ],
   "source": [
    "from Bio import pairwise2\n",
    "alignments = pairwise2.align.globalxx(\"Titanic\", \"Ttanic\")\n",
    "print(alignments)"
   ]
  }
 ],
 "metadata": {
  "kernelspec": {
   "display_name": "Python 2",
   "language": "python",
   "name": "python2"
  },
  "language_info": {
   "codemirror_mode": {
    "name": "ipython",
    "version": 2
   },
   "file_extension": ".py",
   "mimetype": "text/x-python",
   "name": "python",
   "nbconvert_exporter": "python",
   "pygments_lexer": "ipython2",
   "version": "2.7.11"
  }
 },
 "nbformat": 4,
 "nbformat_minor": 0
}
